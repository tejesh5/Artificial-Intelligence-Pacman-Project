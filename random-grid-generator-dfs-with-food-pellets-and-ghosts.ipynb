{
 "cells": [
  {
   "cell_type": "code",
   "execution_count": 505,
   "metadata": {},
   "outputs": [],
   "source": [
    "import numpy as np"
   ]
  },
  {
   "cell_type": "code",
   "execution_count": 506,
   "metadata": {},
   "outputs": [
    {
     "name": "stdout",
     "output_type": "stream",
     "text": [
      "%%%%%%%%%%%\n",
      "% %       %\n",
      "% %%%%% % %\n",
      "%   %   % %\n",
      "%%% % %%% %\n",
      "% %   % % %\n",
      "% %%%%% % %\n",
      "% %     % %\n",
      "% % % %%% %\n",
      "%   %     %\n",
      "%%%%%%%%%%%\n"
     ]
    }
   ],
   "source": [
    "import random\n",
    "\n",
    "class Cell:\n",
    "    \"\"\"Cell class that defines each walkable Cell on the grid\"\"\"\n",
    "    def __init__(self, x: int, y: int):\n",
    "        self.x = x\n",
    "        self.y = y\n",
    "        self.visited = False\n",
    "        self.walls = [True, True, True, True] # Left, Right, Up, Down\n",
    "\n",
    "\n",
    "    def getChildren(self, grid: list) -> list:\n",
    "        \"\"\"Check if the Cell has any surrounding unvisited Cells that are walkable\"\"\"\n",
    "        a = [(1, 0), (-1,0), (0, 1), (0, -1)]\n",
    "        children = []\n",
    "        for x, y in a:\n",
    "            if self.x+x in [len(grid), -1] or self.y+y in [-1, len(grid)]:\n",
    "                continue\n",
    "            \n",
    "            child = grid[self.y+y][self.x+x]\n",
    "            if child.visited:\n",
    "                continue\n",
    "            children.append(child)\n",
    "        return children\n",
    "\n",
    "\n",
    "def removeWalls(current: Cell, choice: Cell):\n",
    "    \"\"\"Removeing the wall between two Cells\"\"\"\n",
    "    if choice.x > current.x:     \n",
    "        current.walls[1] = False\n",
    "        choice.walls[0] = False\n",
    "    elif choice.x < current.x:\n",
    "        current.walls[0] = False\n",
    "        choice.walls[1] = False\n",
    "    elif choice.y > current.y:\n",
    "        current.walls[3] = False\n",
    "        choice.walls[2] = False\n",
    "    elif choice.y < current.y:\n",
    "        current.walls[2] = False\n",
    "        choice.walls[3] = False\n",
    "\n",
    "\n",
    "def drawWalls(grid: list, binGrid: list) -> list:\n",
    "    \"\"\"Draw existing walls around Cells\"\"\"\n",
    "    for yindex, y in enumerate(grid):\n",
    "        for xindex, x in enumerate(y):\n",
    "            for i, w in enumerate(x.walls):\n",
    "                if i == 0 and w:\n",
    "                    binGrid[yindex*2+1][xindex*2] = '%'\n",
    "                if i == 1 and w:\n",
    "                    binGrid[yindex*2+1][xindex*2+2] = '%'\n",
    "                if i == 2 and w:\n",
    "                    binGrid[yindex*2][xindex*2+1] = '%'\n",
    "                if i == 3 and w:\n",
    "                    binGrid[yindex*2+2][xindex*2+1] = '%'\n",
    "    return binGrid\n",
    "\n",
    "\n",
    "def drawBorder(grid: list) -> list:\n",
    "    \"\"\"Draw a border around the maze\"\"\"\n",
    "    length = len(grid)\n",
    "    for row in grid:\n",
    "        row[0] = row[length-1] = '%'\n",
    "        \n",
    "    grid[0] = grid[length-1] = ['%'] * length\n",
    "    return grid\n",
    "\n",
    "\n",
    "def displayMaze(grid: list):\n",
    "    \"\"\"Draw the maze using ASCII characters and display the maze\"\"\"\n",
    "    binGrid = []\n",
    "    length = len(grid)*2+1\n",
    "    for x in range(length):\n",
    "        if x % 2 == 0:\n",
    "            binGrid.append([' ' if x % 2 != 0 else '%' for x in range(length)])\n",
    "        else:\n",
    "            binGrid.append([' '] * length)\n",
    "    \n",
    "    binGrid = drawWalls(grid, binGrid)\n",
    "            \n",
    "    binGrid = drawBorder(binGrid)\n",
    "\n",
    "    print('\\n'.join([''.join(x) for x in binGrid]))\n",
    "    return binGrid\n",
    "\n",
    "\n",
    "# Request the user to input a maze size and initialise the maze, stack and initial Cell\n",
    "# size = int(input('Enter a maze size: '))\n",
    "\n",
    "size = 5\n",
    "grid = [[Cell(x, y) for x in range(size)] for y in range(size)]\n",
    "current = grid[0][0]\n",
    "stack = []\n",
    "\n",
    "\n",
    "# Main loop to generate the maze\n",
    "while True:\n",
    "    current.visited = True\n",
    "    children = current.getChildren(grid)\n",
    "\n",
    "    if children:\n",
    "        choice = random.choice(children)\n",
    "        choice.visited = True\n",
    "\n",
    "        stack.append(current)\n",
    "\n",
    "        removeWalls(current, choice)\n",
    "\n",
    "        current = choice\n",
    "    \n",
    "    elif stack:\n",
    "        current = stack.pop()\n",
    "    else:\n",
    "        break\n",
    "\n",
    "grid_display = displayMaze(grid)"
   ]
  },
  {
   "cell_type": "markdown",
   "metadata": {},
   "source": [
    "## Logic to remove random parts of the walls. \n",
    "### If you wanna remove even more % from the grid, just add a constant to rnd_count (fro example: rnd_count = rnd_count + 2)"
   ]
  },
  {
   "cell_type": "code",
   "execution_count": 507,
   "metadata": {},
   "outputs": [],
   "source": [
    "new_grid = [grid_display[0]]\n",
    "\n",
    "# first row and last row are ignored\n",
    "for curr_row in grid_display[1:len(grid_display) - 1]:\n",
    "    count = curr_row.count(\"%\") - 2\n",
    "    rnd_count = round(np.random.uniform(low = 0, high = count/1.5))\n",
    "    \n",
    "    list_of_walls = []\n",
    "    for index in range(1, len(curr_row) - 1):\n",
    "        if curr_row[index] == \"%\":\n",
    "            list_of_walls.append(index)\n",
    "    \n",
    "    indexes_to_be_replaced = np.random.choice(list_of_walls, rnd_count, replace = False)\n",
    "#     print(indexes_to_be_replaced)\n",
    "#     print(\"Previous: \", curr_row)\n",
    "    for idx in indexes_to_be_replaced:\n",
    "        curr_row[idx] = \" \"\n",
    "#     print(\"After   : \", curr_row)\n",
    "    new_grid.append(curr_row)\n",
    "new_grid.append(grid_display[-1])"
   ]
  },
  {
   "cell_type": "code",
   "execution_count": 508,
   "metadata": {},
   "outputs": [
    {
     "name": "stdout",
     "output_type": "stream",
     "text": [
      "%%%%%%%%%%%\n",
      "% %       %\n",
      "%  % %  % %\n",
      "%   %     %\n",
      "%%% % %%  %\n",
      "% %       %\n",
      "% % %%% % %\n",
      "% %     % %\n",
      "% % %  %  %\n",
      "%   %     %\n",
      "%%%%%%%%%%%\n"
     ]
    }
   ],
   "source": [
    "print('\\n'.join([''.join(x) for x in new_grid]))"
   ]
  },
  {
   "cell_type": "markdown",
   "metadata": {},
   "source": [
    "# Logic to add food pellets. \n",
    "\n",
    "### if you wanna add more food, just increase 0.3 to some other higher number."
   ]
  },
  {
   "cell_type": "code",
   "execution_count": 509,
   "metadata": {},
   "outputs": [],
   "source": [
    "# addign food pellets:\n",
    "for curr_row in new_grid:\n",
    "    for index, element in enumerate(curr_row):\n",
    "        if element == \" \":\n",
    "            if np.random.random() < 0.3:\n",
    "                curr_row[index] = \".\""
   ]
  },
  {
   "cell_type": "code",
   "execution_count": 510,
   "metadata": {},
   "outputs": [
    {
     "name": "stdout",
     "output_type": "stream",
     "text": [
      "%%%%%%%%%%%\n",
      "%.%  ...  %\n",
      "%  % %  % %\n",
      "%  .%     %\n",
      "%%% %.%%. %\n",
      "% %.    ..%\n",
      "% % %%% % %\n",
      "% %.  . % %\n",
      "% % %  % .%\n",
      "%   %  ...%\n",
      "%%%%%%%%%%%\n"
     ]
    }
   ],
   "source": [
    "print('\\n'.join([''.join(x) for x in new_grid]))"
   ]
  },
  {
   "cell_type": "markdown",
   "metadata": {},
   "source": [
    "# Logic to add one pacman in the grid\n",
    "\n",
    "### the pacman is just initiated in the top-left corner of the grid"
   ]
  },
  {
   "cell_type": "code",
   "execution_count": 511,
   "metadata": {},
   "outputs": [
    {
     "name": "stdout",
     "output_type": "stream",
     "text": [
      "%%%%%%%%%%%\n",
      "%P%  ...  %\n",
      "%  % %  % %\n",
      "%  .%     %\n",
      "%%% %.%%. %\n",
      "% %.    ..%\n",
      "% % %%% % %\n",
      "% %.  . % %\n",
      "% % %  % .%\n",
      "%   %  ...%\n",
      "%%%%%%%%%%%\n"
     ]
    }
   ],
   "source": [
    "new_grid[1][1] = \"P\"\n",
    "print('\\n'.join([''.join(x) for x in new_grid]))"
   ]
  },
  {
   "cell_type": "markdown",
   "metadata": {},
   "source": [
    "# Logic to add x ghosts in the grid\n",
    "\n",
    "### the ghosts are just initiated in the bottom-right corners of the grid"
   ]
  },
  {
   "cell_type": "code",
   "execution_count": 512,
   "metadata": {},
   "outputs": [],
   "source": [
    "# the logic will support for any number of ghosts.\n",
    "# The ghosts will be initiated in the bottom part of the randomly generated grid.\n",
    "\n",
    "width = len(new_grid[0]) \n",
    "height = len(new_grid)\n",
    "\n",
    "empty_locations = []\n",
    "for x in range(width):\n",
    "    for y in range(height):\n",
    "        if new_grid[x][y] == \" \":\n",
    "            empty_locations.append((x, y))"
   ]
  },
  {
   "cell_type": "code",
   "execution_count": 513,
   "metadata": {},
   "outputs": [],
   "source": [
    "Num_Ghosts = 1\n",
    "PowerPallets = 2\n",
    "for i in range(Num_Ghosts):\n",
    "    curr_empty_location = empty_locations[-1 * (i + 1)]\n",
    "    new_grid[curr_empty_location[0]][curr_empty_location[1]] = \"G\"\n",
    "    empty_locations.remove((curr_empty_location[0], curr_empty_location[1]))\n",
    "\n",
    "for i in range(PowerPallets):\n",
    "    curr_empty_location = random.choice(empty_locations)\n",
    "    new_grid[curr_empty_location[0]][curr_empty_location[1]] = \"o\"\n",
    "    empty_locations.remove((curr_empty_location[0], curr_empty_location[1]))"
   ]
  },
  {
   "cell_type": "markdown",
   "metadata": {},
   "source": []
  },
  {
   "cell_type": "code",
   "execution_count": 514,
   "metadata": {},
   "outputs": [
    {
     "name": "stdout",
     "output_type": "stream",
     "text": [
      "%%%%%%%%%%%\n",
      "%P%  ...  %\n",
      "%  % %  % %\n",
      "%  .%     %\n",
      "%%% %.%%. %\n",
      "%o%.    ..%\n",
      "% % %%% % %\n",
      "% %.  . % %\n",
      "% % %  % .%\n",
      "%   %oG...%\n",
      "%%%%%%%%%%%\n"
     ]
    }
   ],
   "source": [
    "print('\\n'.join([''.join(x) for x in new_grid]))"
   ]
  },
  {
   "cell_type": "code",
   "execution_count": 515,
   "metadata": {},
   "outputs": [],
   "source": [
    "# with open(\"layouts/genSmallG2\", )"
   ]
  }
 ],
 "metadata": {
  "kernelspec": {
   "display_name": "Python 3.6.13 ('cse571')",
   "language": "python",
   "name": "python3"
  },
  "language_info": {
   "codemirror_mode": {
    "name": "ipython",
    "version": 3
   },
   "file_extension": ".py",
   "mimetype": "text/x-python",
   "name": "python",
   "nbconvert_exporter": "python",
   "pygments_lexer": "ipython3",
   "version": "3.6.13"
  },
  "vscode": {
   "interpreter": {
    "hash": "218a8ef05149aafe87ed6fb1159eb88a44e089feac61301fdff01a687125331c"
   }
  }
 },
 "nbformat": 4,
 "nbformat_minor": 4
}
