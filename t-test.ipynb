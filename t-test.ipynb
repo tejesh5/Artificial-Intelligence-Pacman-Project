{
 "cells": [
  {
   "cell_type": "code",
   "execution_count": 6,
   "metadata": {},
   "outputs": [],
   "source": [
    "# !pip install kneed\n",
    "# !pip install scipy\n",
    "# !pip install pandas\n",
    "# !pip install matplotlib"
   ]
  },
  {
   "cell_type": "code",
   "execution_count": 9,
   "metadata": {},
   "outputs": [],
   "source": [
    "import pandas as pd\n",
    "from scipy.stats import ttest_ind, ttest_rel\n",
    "# from kneed import KneeLocator"
   ]
  },
  {
   "cell_type": "code",
   "execution_count": null,
   "metadata": {},
   "outputs": [],
   "source": [
    "# Ensure to update the constances: trials and episodes_per_trial variables\n",
    "def find_convergence(df):\n",
    "    \"\"\"\n",
    "    Just plug in any algorithm for convergence calculation here.\n",
    "    \"\"\"\n",
    "    kn = KneeLocator(df['Episode'], df[\"AvgRewards\"], curve='concave', direction='increasing')\n",
    "    return kn.knee\n",
    "\n",
    "def convergence_episodes(q):\n",
    "    lower_value = 0\n",
    "    upper_value = episodes_per_trial\n",
    "    trial_list = []\n",
    "    convergence_point = []\n",
    "    for count, i in enumerate(range(trials)):\n",
    "        current_df = q.iloc[lower_value: upper_value]\n",
    "        lower_value += episodes_per_trial\n",
    "        upper_value += episodes_per_trial\n",
    "        trial_list.append(count + 1)\n",
    "        convergence_point.append(find_convergence(current_df))\n",
    "    return trial_list, convergence_point"
   ]
  },
  {
   "cell_type": "code",
   "execution_count": 131,
   "metadata": {},
   "outputs": [],
   "source": [
    "def convergenceEstimator(sarsa, q, episodes, tolerance):\n",
    "    sarsa_df = pd.read_csv(sarsa, index_col = 0)\n",
    "    q_df = pd.read_csv(q, index_col = 0)\n",
    "    totalRows = int(len(sarsa_df))\n",
    "    sarsaConvergedEps = []\n",
    "    QConvergedEps = []\n",
    "    sarsa_idealRewards = sum(sarsa_df['AvgRewards'][totalRows-100:totalRows]) / 100\n",
    "    q_idealRewards = sum(q_df['AvgRewards'][totalRows-100:totalRows]) / 100\n",
    "    window = 12\n",
    "    # get the convergence episode for sarsda\n",
    "    run = 1\n",
    "    epi = 0\n",
    "    while epi < len(sarsa_df['Episode']):\n",
    "        if (sarsa_df['AvgRewards'][epi] ) > sarsa_idealRewards-tolerance and \\\n",
    "            (sarsa_df['AvgRewards'][epi]) < sarsa_idealRewards+tolerance:\n",
    "            sarsaConvergedEps.append(epi+1 - ((run-1) * episodes))\n",
    "            epi = run * episodes\n",
    "            run += 1\n",
    "            continue\n",
    "        epi += 1\n",
    "\n",
    "    # get the convergence episode for sarsda\n",
    "    run = 1\n",
    "    epi = 0\n",
    "    while epi < len(q_df['Episode']):\n",
    "        if (q_df['AvgRewards'][epi] ) > q_idealRewards-tolerance and \\\n",
    "            (q_df['AvgRewards'][epi] ) < q_idealRewards+tolerance:\n",
    "            QConvergedEps.append(epi+1 - ((run-1) * episodes))\n",
    "            epi = run * episodes\n",
    "            run += 1\n",
    "            continue\n",
    "        epi += 1\n",
    "    sarsaConvergedEps, QConvergedEps = sorted(sarsaConvergedEps)[:5], sorted(QConvergedEps)[::-1][:5]\n",
    "    return sarsaConvergedEps, QConvergedEps"
   ]
  },
  {
   "cell_type": "code",
   "execution_count": 163,
   "metadata": {},
   "outputs": [],
   "source": [
    "import pandas as pd\n",
    "\n",
    "sarsaCSV = 'csvs/TrueOnlineSarsaAgent_genLarge4G1_SimpleExtractor_0-6.csv'\n",
    "QCSV = 'csvs/ApproximateQAgent_genLarge4G1_SimpleExtractor_0-6.csv'\n",
    "sarsaConvergedEps, QConvergedEps = convergenceEstimator(sarsaCSV, QCSV, 2000, 50)\n"
   ]
  },
  {
   "cell_type": "code",
   "execution_count": 167,
   "metadata": {},
   "outputs": [
    {
     "name": "stdout",
     "output_type": "stream",
     "text": [
      "0.04517647517590429\n"
     ]
    }
   ],
   "source": [
    "res = ttest_rel(sarsaConvergedEps, QConvergedEps)\n",
    "df = pd.DataFrame({'Trials': [_ for _ in range(len(sarsaConvergedEps))], 'SARSAConvergence': sarsaConvergedEps, 'QConvergence': QConvergedEps, 'pVal': res.pvalue})\n",
    "df.to_csv('genLarge4G1statsRes.csv')\n",
    "print(res.pvalue)"
   ]
  },
  {
   "cell_type": "code",
   "execution_count": 97,
   "metadata": {},
   "outputs": [],
   "source": [
    "import glob"
   ]
  },
  {
   "cell_type": "code",
   "execution_count": 187,
   "metadata": {},
   "outputs": [],
   "source": [
    "def runAvgedTtest(layout_case):\n",
    "    csvFolder = f\"csvs/\"\n",
    "    files = list(glob.glob(csvFolder+'/*.csv'))\n",
    "    trueOnlineSarsaFiles = []\n",
    "    ApproximateQAgentFiles = []\n",
    "    allSarsaConv = []\n",
    "    allQConv = []\n",
    "    for file in files:\n",
    "        if layout_case in file:\n",
    "            if 'TrueOnlineSarsaAgent' in file:\n",
    "                trueOnlineSarsaFiles.append(file)\n",
    "            if 'ApproximateQAgent' in file:\n",
    "                ApproximateQAgentFiles.append(file)\n",
    "    for file in trueOnlineSarsaFiles:\n",
    "        approxQAgent = file.replace('TrueOnlineSarsaAgent', 'ApproximateQAgent')\n",
    "        if approxQAgent in ApproximateQAgentFiles:\n",
    "            sarsaConvergedEps, QConvergedEps = convergenceEstimator(file, approxQAgent, 2000, 50)\n",
    "            allSarsaConv.extend(sarsaConvergedEps)\n",
    "            allQConv.extend(QConvergedEps)\n",
    "    return allSarsaConv, allQConv"
   ]
  },
  {
   "cell_type": "code",
   "execution_count": 200,
   "metadata": {},
   "outputs": [],
   "source": [
    "sarsaConvergedEps, QConvergedEps = runAvgedTtest('genMedium')"
   ]
  },
  {
   "cell_type": "code",
   "execution_count": 201,
   "metadata": {},
   "outputs": [
    {
     "name": "stdout",
     "output_type": "stream",
     "text": [
      "0.001933503410088491\n"
     ]
    }
   ],
   "source": [
    "res = ttest_rel(sarsaConvergedEps, QConvergedEps)\n",
    "df = pd.DataFrame({'Trials': [_ for _ in range(len(sarsaConvergedEps))], 'SARSAConvergence': sarsaConvergedEps, 'QConvergence': QConvergedEps, 'pVal': res.pvalue})\n",
    "df.to_csv('genMedium.csv')\n",
    "print(res.pvalue)"
   ]
  }
 ],
 "metadata": {
  "kernelspec": {
   "display_name": "Python 3.6.13 ('cse571')",
   "language": "python",
   "name": "python3"
  },
  "language_info": {
   "codemirror_mode": {
    "name": "ipython",
    "version": 3
   },
   "file_extension": ".py",
   "mimetype": "text/x-python",
   "name": "python",
   "nbconvert_exporter": "python",
   "pygments_lexer": "ipython3",
   "version": "3.6.13"
  },
  "vscode": {
   "interpreter": {
    "hash": "218a8ef05149aafe87ed6fb1159eb88a44e089feac61301fdff01a687125331c"
   }
  }
 },
 "nbformat": 4,
 "nbformat_minor": 4
}
